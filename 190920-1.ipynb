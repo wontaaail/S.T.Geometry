{
  "nbformat": 4,
  "nbformat_minor": 0,
  "metadata": {
    "colab": {
      "name": "Untitled0.ipynb",
      "version": "0.3.2",
      "provenance": [],
      "include_colab_link": true
    },
    "kernelspec": {
      "name": "python3",
      "display_name": "Python 3"
    }
  },
  "cells": [
    {
      "cell_type": "markdown",
      "metadata": {
        "id": "view-in-github",
        "colab_type": "text"
      },
      "source": [
        "<a href=\"https://colab.research.google.com/github/wontaaail/S.T.Geometry/blob/master/190920-1.ipynb\" target=\"_parent\"><img src=\"https://colab.research.google.com/assets/colab-badge.svg\" alt=\"Open In Colab\"/></a>"
      ]
    },
    {
      "cell_type": "markdown",
      "metadata": {
        "id": "1SMCCafrKX_u",
        "colab_type": "text"
      },
      "source": [
        "#2019.09.20"
      ]
    },
    {
      "cell_type": "markdown",
      "metadata": {
        "id": "UHH83vgEKEFu",
        "colab_type": "text"
      },
      "source": [
        "## 가장먼저 구글드라이브 계정이랑 연동하기"
      ]
    },
    {
      "cell_type": "code",
      "metadata": {
        "id": "-ItXd-8VDq4f",
        "colab_type": "code",
        "colab": {
          "base_uri": "https://localhost:8080/",
          "height": 35
        },
        "outputId": "189a8c86-6f54-4c8a-f9cb-9257a69196e1"
      },
      "source": [
        "from google.colab import drive\n",
        "\n",
        "drive.mount('/content/gdrive')"
      ],
      "execution_count": 9,
      "outputs": [
        {
          "output_type": "stream",
          "text": [
            "Drive already mounted at /content/gdrive; to attempt to forcibly remount, call drive.mount(\"/content/gdrive\", force_remount=True).\n"
          ],
          "name": "stdout"
        }
      ]
    },
    {
      "cell_type": "markdown",
      "metadata": {
        "id": "HYOvuNtBKL2W",
        "colab_type": "text"
      },
      "source": [
        "##구글드라이브 계정에 있는 목록 탐색"
      ]
    },
    {
      "cell_type": "markdown",
      "metadata": {
        "id": "xyKarVf_KBBT",
        "colab_type": "text"
      },
      "source": [
        ""
      ]
    },
    {
      "cell_type": "code",
      "metadata": {
        "id": "kEbhexQOEDpn",
        "colab_type": "code",
        "colab": {
          "base_uri": "https://localhost:8080/",
          "height": 35
        },
        "outputId": "fbc44c05-8edf-43fe-a753-690277d9212c"
      },
      "source": [
        "!ls '/content/gdrive/'"
      ],
      "execution_count": 10,
      "outputs": [
        {
          "output_type": "stream",
          "text": [
            "'My Drive'  'Shared drives'\n"
          ],
          "name": "stdout"
        }
      ]
    },
    {
      "cell_type": "code",
      "metadata": {
        "id": "b8NDyqdcGLwA",
        "colab_type": "code",
        "colab": {
          "base_uri": "https://localhost:8080/",
          "height": 53
        },
        "outputId": "75db32dd-691b-44b1-c8d2-24065f075d28"
      },
      "source": [
        "!ls '/content/gdrive/My Drive/'"
      ],
      "execution_count": 11,
      "outputs": [
        {
          "output_type": "stream",
          "text": [
            "'Attached Message Part'   Untitled0.ipynb\n",
            "'Colab Notebooks'\t '양성덕 교수님과 홈페이지 관련 매스매티카.zip'\n"
          ],
          "name": "stdout"
        }
      ]
    },
    {
      "cell_type": "code",
      "metadata": {
        "id": "F6sxcM10GO6-",
        "colab_type": "code",
        "colab": {
          "base_uri": "https://localhost:8080/",
          "height": 35
        },
        "outputId": "c45c3c68-5305-4eac-88e4-a2b2c0415579"
      },
      "source": [
        "!ls '/content/gdrive/My Drive/Colab Notebooks/'"
      ],
      "execution_count": 12,
      "outputs": [
        {
          "output_type": "stream",
          "text": [
            "code\n"
          ],
          "name": "stdout"
        }
      ]
    },
    {
      "cell_type": "code",
      "metadata": {
        "id": "yXMtIiouGSde",
        "colab_type": "code",
        "colab": {
          "base_uri": "https://localhost:8080/",
          "height": 161
        },
        "outputId": "3d4de6cd-29e9-44d4-e6ff-79a9513b7395"
      },
      "source": [
        "!ls '/content/gdrive/My Drive/Colab Notebooks/code/'"
      ],
      "execution_count": 13,
      "outputs": [
        {
          "output_type": "stream",
          "text": [
            "0Readme.txt    13_2_base.py  16_3.py   20_10.py  21_1.py   8_5.py\n",
            "0Readme_u.md   13_2_load.py  16_5.py   20_11.py  21_9.py   9_1.py\n",
            "0Readme_u.pdf  13_2.py\t     17_4.py   20_5.py\t 22_10.py  9_3.py\n",
            "10_13.py       14_1,4.py     17_6.py   20_6.py\t 22_19.py  diabetes.csv\n",
            "10.2.py        14_1.py\t     19_10.py  20_7.py\t 22_25.py  housing.csv\n",
            "11_14.py       14_7.py\t     19_18.py  20_8.py\t 24_2.py   ionosphere.csv\n",
            "11.2.py        15_3.py\t     19_1.py   20_9.py\t 7_9.py    mnist.npz\n",
            "12_9.py        16_1.py\t     19_20.py  21_11.py  8_3.py    Untitled0.ipynb\n"
          ],
          "name": "stdout"
        }
      ]
    }
  ]
}