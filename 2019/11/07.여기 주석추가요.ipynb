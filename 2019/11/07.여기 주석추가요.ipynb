{
  "nbformat": 4,
  "nbformat_minor": 0,
  "metadata": {
    "colab": {
      "name": "Untitled2.ipynb",
      "provenance": [],
      "include_colab_link": true
    },
    "kernelspec": {
      "name": "python3",
      "display_name": "Python 3"
    }
  },
  "cells": [
    {
      "cell_type": "markdown",
      "metadata": {
        "id": "view-in-github",
        "colab_type": "text"
      },
      "source": [
        "<a href=\"https://colab.research.google.com/github/wontaaail/S.T.Geometry/blob/master/2019/11/07.%EC%97%AC%EA%B8%B0%20%EC%A3%BC%EC%84%9D%EC%B6%94%EA%B0%80%EC%9A%94.ipynb\" target=\"_parent\"><img src=\"https://colab.research.google.com/assets/colab-badge.svg\" alt=\"Open In Colab\"/></a>"
      ]
    },
    {
      "cell_type": "code",
      "metadata": {
        "id": "bbgJVAV2odMM",
        "colab_type": "code",
        "colab": {
          "base_uri": "https://localhost:8080/",
          "height": 81
        },
        "outputId": "1e9aec84-44fe-430b-9e09-0f063a7ffcca"
      },
      "source": [
        "from keras.datasets import mnist\n",
        "import matplotlib.pyplot as plt"
      ],
      "execution_count": 1,
      "outputs": [
        {
          "output_type": "stream",
          "text": [
            "Using TensorFlow backend.\n"
          ],
          "name": "stderr"
        },
        {
          "output_type": "display_data",
          "data": {
            "text/html": [
              "<p style=\"color: red;\">\n",
              "The default version of TensorFlow in Colab will soon switch to TensorFlow 2.x.<br>\n",
              "We recommend you <a href=\"https://www.tensorflow.org/guide/migrate\" target=\"_blank\">upgrade</a> now \n",
              "or ensure your notebook will continue to use TensorFlow 1.x via the <code>%tensorflow_version 1.x</code> magic:\n",
              "<a href=\"https://colab.research.google.com/notebooks/tensorflow_version.ipynb\" target=\"_blank\">more info</a>.</p>\n"
            ],
            "text/plain": [
              "<IPython.core.display.HTML object>"
            ]
          },
          "metadata": {
            "tags": []
          }
        }
      ]
    },
    {
      "cell_type": "markdown",
      "metadata": {
        "id": "7HNlRwsP2EEr",
        "colab_type": "text"
      },
      "source": [
        "데이터를 새로 받아온다.\n",
        "\n",
        "이미 데이터를 가지고 있는 경우에도 문제는 없지만 이 경우가 훨씬 편하다."
      ]
    },
    {
      "cell_type": "code",
      "metadata": {
        "id": "4NkzqbMhorWv",
        "colab_type": "code",
        "colab": {
          "base_uri": "https://localhost:8080/",
          "height": 52
        },
        "outputId": "148c425d-f162-4b0c-985c-8e1ef2b66e5f"
      },
      "source": [
        "(X_train, y_train), (X_test, y_test) = mnist.load_data()"
      ],
      "execution_count": 2,
      "outputs": [
        {
          "output_type": "stream",
          "text": [
            "Downloading data from https://s3.amazonaws.com/img-datasets/mnist.npz\n",
            "11493376/11490434 [==============================] - 1s 0us/step\n"
          ],
          "name": "stdout"
        }
      ]
    },
    {
      "cell_type": "markdown",
      "metadata": {
        "id": "Hu99XN142MxP",
        "colab_type": "text"
      },
      "source": [
        "데이터를 잘 받았으니 한번 이미지를 확인해볼까?"
      ]
    },
    {
      "cell_type": "code",
      "metadata": {
        "id": "3zUcmK8powVu",
        "colab_type": "code",
        "colab": {
          "base_uri": "https://localhost:8080/",
          "height": 285
        },
        "outputId": "f29d3087-ed31-4a10-fc20-ed7e6d591e7c"
      },
      "source": [
        "plt.subplot(231)\n",
        "plt.imshow(X_train[0], cmap=plt.get_cmap( 'gray' ))\n",
        "plt.subplot(232)\n",
        "plt.imshow(X_train[1], cmap=plt.get_cmap( 'gray' ))\n",
        "plt.subplot(233)\n",
        "plt.imshow(X_train[2], cmap=plt.get_cmap( 'gray' ))\n",
        "plt.subplot(234)\n",
        "plt.imshow(X_train[3], cmap=plt.get_cmap( 'gray' ))\n",
        "plt.subplot(235)\n",
        "plt.imshow(X_train[4], cmap=plt.get_cmap( 'gray' ))\n",
        "plt.subplot(236)\n",
        "plt.imshow(X_train[5], cmap=plt.get_cmap( 'gray' ))"
      ],
      "execution_count": 18,
      "outputs": [
        {
          "output_type": "execute_result",
          "data": {
            "text/plain": [
              "<matplotlib.image.AxesImage at 0x7fe8c0138320>"
            ]
          },
          "metadata": {
            "tags": []
          },
          "execution_count": 18
        },
        {
          "output_type": "display_data",
          "data": {
            "image/png": "[encoded data removed]",
            "text/plain": [
              "<Figure size 432x288 with 6 Axes>"
            ]
          },
          "metadata": {
            "tags": []
          }
        }
      ]
    },
    {
      "cell_type": "markdown",
      "metadata": {
        "id": "lGyxII-k2gRu",
        "colab_type": "text"
      },
      "source": [
        "plt.subplot(abc) := a번째행, b번째열에서 c번째에 위치시킨다"
      ]
    },
    {
      "cell_type": "markdown",
      "metadata": {
        "id": "IJFEqvw22suz",
        "colab_type": "text"
      },
      "source": [
        "그림이 잘 나오는 것을 확인할 수 있다."
      ]
    },
    {
      "cell_type": "code",
      "metadata": {
        "id": "j2Wonce2sZOj",
        "colab_type": "code",
        "colab": {
          "base_uri": "https://localhost:8080/",
          "height": 282
        },
        "outputId": "10f51570-536b-4eda-8304-0b93419046e1"
      },
      "source": [
        "plt.subplot(111)\n",
        "plt.imshow(X_test[99], cmap=plt.get_cmap( 'gray' ))"
      ],
      "execution_count": 19,
      "outputs": [
        {
          "output_type": "execute_result",
          "data": {
            "text/plain": [
              "<matplotlib.image.AxesImage at 0x7fe8c0107518>"
            ]
          },
          "metadata": {
            "tags": []
          },
          "execution_count": 19
        },
        {
          "output_type": "display_data",
          "data": {
            "image/png": "[encoded data removed]",
            "text/plain": [
              "<Figure size 432x288 with 1 Axes>"
            ]
          },
          "metadata": {
            "tags": []
          }
        }
      ]
    },
    {
      "cell_type": "markdown",
      "metadata": {
        "id": "0q6pZlQD20s9",
        "colab_type": "text"
      },
      "source": [
        "지금까지 해 온것처럼 베이스 작업을 한다."
      ]
    },
    {
      "cell_type": "code",
      "metadata": {
        "id": "ouf1GqJnpW-f",
        "colab_type": "code",
        "colab": {}
      },
      "source": [
        "import numpy\n",
        "from keras.datasets import mnist\n",
        "from keras.models import Sequential\n",
        "from keras.layers import Dense\n",
        "from keras.layers import Dropout\n",
        "from keras.utils import np_utils"
      ],
      "execution_count": 0,
      "outputs": []
    },
    {
      "cell_type": "code",
      "metadata": {
        "id": "nI_Zs8PzpZpz",
        "colab_type": "code",
        "colab": {}
      },
      "source": [
        "seed = 6\n",
        "numpy.random.seed(seed)"
      ],
      "execution_count": 0,
      "outputs": []
    },
    {
      "cell_type": "markdown",
      "metadata": {
        "id": "qao11k5K27vA",
        "colab_type": "text"
      },
      "source": [
        "MNIST를 하기 전에 이미지에 대한 분석을 한다.\n",
        "\n",
        "이 이미지는 총 60000개 혹은 10000개 (train, test)에 분배 되어있으며\n",
        "28x28 의 해상도를 가진다.\n",
        "\n",
        "아래의 X_train.shape 명령어를 사용해서 직접적인 수치를 확인해보자."
      ]
    },
    {
      "cell_type": "code",
      "metadata": {
        "id": "qaNxyxVSsL2d",
        "colab_type": "code",
        "colab": {
          "base_uri": "https://localhost:8080/",
          "height": 52
        },
        "outputId": "0847eff3-14aa-42e2-e47c-771e29a5a83d"
      },
      "source": [
        "print(X_train.shape[1])\n",
        "print(X_train.shape[2])"
      ],
      "execution_count": 8,
      "outputs": [
        {
          "output_type": "stream",
          "text": [
            "28\n",
            "28\n"
          ],
          "name": "stdout"
        }
      ]
    },
    {
      "cell_type": "code",
      "metadata": {
        "id": "HakPnhcJpgk0",
        "colab_type": "code",
        "colab": {}
      },
      "source": [
        "num_pixels = X_train.shape[1] * X_train.shape[2]"
      ],
      "execution_count": 0,
      "outputs": []
    },
    {
      "cell_type": "code",
      "metadata": {
        "id": "aGTN-bAPp1yN",
        "colab_type": "code",
        "colab": {}
      },
      "source": [
        "X_train = X_train.reshape(X_train.shape[0], num_pixels).astype( 'float64' )\n",
        "X_test = X_test.reshape(X_test.shape[0], num_pixels).astype( 'float64' )"
      ],
      "execution_count": 0,
      "outputs": []
    },
    {
      "cell_type": "markdown",
      "metadata": {
        "id": "y8bA9XE23SIN",
        "colab_type": "text"
      },
      "source": [
        "float := Mathematica 에서의 Flatten 명령어와 같다(평면화). \n",
        "\n",
        "차수를 1차원 내린다라고 생각하면 쉽게 이해가 될 것이다."
      ]
    },
    {
      "cell_type": "code",
      "metadata": {
        "id": "9QsWhzERp9GF",
        "colab_type": "code",
        "colab": {}
      },
      "source": [
        "X_train = X_train / 255\n",
        "X_test = X_test / 255"
      ],
      "execution_count": 0,
      "outputs": []
    },
    {
      "cell_type": "markdown",
      "metadata": {
        "id": "BJCRZ8ni3i7U",
        "colab_type": "text"
      },
      "source": [
        "255라는 숫자는 명암도를 0부터 255로 표현할때 검정(0),하양(255)로 표현할 때\n",
        "\n",
        "0, 255를 0, 1로 바꿔주는 것이다."
      ]
    },
    {
      "cell_type": "markdown",
      "metadata": {
        "id": "NAyv9bBt3yRf",
        "colab_type": "text"
      },
      "source": [
        "정말 그렇게 되는지 확인해본다."
      ]
    },
    {
      "cell_type": "code",
      "metadata": {
        "id": "dMhxDQYexCoI",
        "colab_type": "code",
        "colab": {
          "base_uri": "https://localhost:8080/",
          "height": 1000
        },
        "outputId": "2f80cd27-0343-43dd-af9a-db5c5784df8b"
      },
      "source": [
        "print(X_train[23])"
      ],
      "execution_count": 25,
      "outputs": [
        {
          "output_type": "stream",
          "text": [
            "[0.         0.         0.         0.         0.         0.\n",
            " 0.         0.         0.         0.         0.         0.\n",
            " 0.         0.         0.         0.         0.         0.\n",
            " 0.         0.         0.         0.         0.         0.\n",
            " 0.         0.         0.         0.         0.         0.\n",
            " 0.         0.         0.         0.         0.         0.\n",
            " 0.         0.         0.         0.         0.         0.\n",
            " 0.         0.         0.         0.         0.         0.\n",
            " 0.         0.         0.         0.         0.         0.\n",
            " 0.         0.         0.         0.         0.         0.\n",
            " 0.         0.         0.         0.         0.         0.\n",
            " 0.         0.         0.         0.         0.         0.\n",
            " 0.         0.         0.         0.         0.         0.\n",
            " 0.         0.         0.         0.         0.         0.\n",
            " 0.         0.         0.         0.         0.         0.\n",
            " 0.         0.         0.         0.         0.         0.\n",
            " 0.         0.         0.         0.         0.         0.\n",
            " 0.         0.         0.         0.         0.         0.\n",
            " 0.         0.         0.         0.         0.         0.\n",
            " 0.         0.         0.         0.         0.         0.\n",
            " 0.         0.         0.         0.         0.         0.\n",
            " 0.         0.         0.         0.         0.         0.\n",
            " 0.         0.         0.         0.         0.         0.\n",
            " 0.         0.         0.         0.         0.         0.\n",
            " 0.         0.         0.         0.         0.         0.\n",
            " 0.         0.         0.         0.         0.         0.\n",
            " 0.         0.         0.4745098  0.99607843 0.53333333 0.\n",
            " 0.         0.         0.         0.         0.         0.\n",
            " 0.         0.         0.         0.         0.         0.\n",
            " 0.         0.         0.         0.         0.         0.\n",
            " 0.         0.         0.         0.         0.         0.05098039\n",
            " 0.90196078 0.99215686 0.97254902 0.38823529 0.         0.\n",
            " 0.         0.         0.         0.         0.         0.\n",
            " 0.         0.         0.         0.         0.         0.\n",
            " 0.         0.         0.         0.         0.         0.\n",
            " 0.         0.         0.01568627 0.4627451  0.99215686 0.99215686\n",
            " 0.88235294 0.16470588 0.         0.         0.         0.\n",
            " 0.         0.         0.         0.         0.         0.\n",
            " 0.         0.         0.         0.         0.         0.\n",
            " 0.         0.         0.         0.         0.         0.\n",
            " 0.23921569 0.99215686 0.99215686 0.99215686 0.29019608 0.\n",
            " 0.         0.         0.         0.         0.         0.\n",
            " 0.         0.         0.         0.         0.         0.\n",
            " 0.         0.         0.         0.         0.         0.\n",
            " 0.         0.         0.         0.1254902  0.80784314 0.99215686\n",
            " 0.99215686 0.72941176 0.03529412 0.         0.         0.\n",
            " 0.         0.         0.         0.         0.         0.\n",
            " 0.         0.         0.         0.         0.         0.\n",
            " 0.         0.         0.         0.         0.         0.\n",
            " 0.         0.82745098 0.99215686 0.99215686 0.9372549  0.27058824\n",
            " 0.         0.         0.         0.         0.         0.\n",
            " 0.         0.         0.         0.         0.         0.\n",
            " 0.         0.         0.         0.         0.         0.\n",
            " 0.         0.         0.         0.         0.         0.99607843\n",
            " 0.99215686 0.99215686 0.52156863 0.         0.         0.\n",
            " 0.         0.         0.         0.         0.         0.\n",
            " 0.         0.         0.         0.         0.         0.\n",
            " 0.         0.         0.         0.         0.         0.\n",
            " 0.         0.         0.55686275 1.         0.99215686 0.72941176\n",
            " 0.03137255 0.         0.         0.         0.         0.\n",
            " 0.         0.         0.         0.         0.         0.\n",
            " 0.         0.         0.         0.         0.         0.\n",
            " 0.         0.         0.         0.         0.         0.58431373\n",
            " 0.89803922 0.99607843 0.81176471 0.08235294 0.         0.\n",
            " 0.         0.         0.         0.         0.         0.\n",
            " 0.         0.         0.         0.         0.         0.\n",
            " 0.         0.         0.         0.         0.         0.\n",
            " 0.         0.         0.21176471 0.89803922 0.99215686 0.99607843\n",
            " 0.41176471 0.         0.         0.         0.         0.\n",
            " 0.         0.         0.         0.         0.         0.\n",
            " 0.         0.         0.         0.         0.         0.\n",
            " 0.         0.         0.         0.         0.         0.\n",
            " 0.59607843 0.99607843 0.99607843 0.83529412 0.10196078 0.\n",
            " 0.         0.         0.         0.         0.         0.\n",
            " 0.         0.         0.         0.         0.         0.\n",
            " 0.         0.         0.         0.         0.         0.\n",
            " 0.         0.         0.         0.43921569 0.98431373 0.99215686\n",
            " 0.99215686 0.10196078 0.         0.         0.         0.\n",
            " 0.         0.         0.         0.         0.         0.\n",
            " 0.         0.         0.         0.         0.         0.\n",
            " 0.         0.         0.         0.         0.         0.\n",
            " 0.11372549 0.83137255 0.99215686 0.98039216 0.58431373 0.\n",
            " 0.         0.         0.         0.         0.         0.\n",
            " 0.         0.         0.         0.         0.         0.\n",
            " 0.         0.         0.         0.         0.         0.\n",
            " 0.         0.         0.         0.14117647 0.83921569 0.99215686\n",
            " 0.99215686 0.5372549  0.         0.         0.         0.\n",
            " 0.         0.         0.         0.         0.         0.\n",
            " 0.         0.         0.         0.         0.         0.\n",
            " 0.         0.         0.         0.         0.         0.\n",
            " 0.         0.29411765 0.99215686 0.99215686 0.99215686 0.23137255\n",
            " 0.         0.         0.         0.         0.         0.\n",
            " 0.         0.         0.         0.         0.         0.\n",
            " 0.         0.         0.         0.         0.         0.\n",
            " 0.         0.         0.         0.         0.         0.36470588\n",
            " 0.99215686 0.99215686 0.74117647 0.06666667 0.         0.\n",
            " 0.         0.         0.         0.         0.         0.\n",
            " 0.         0.         0.         0.         0.         0.\n",
            " 0.         0.         0.         0.         0.         0.\n",
            " 0.         0.         0.         0.87843137 0.99215686 0.99215686\n",
            " 0.32941176 0.         0.         0.         0.         0.\n",
            " 0.         0.         0.         0.         0.         0.\n",
            " 0.         0.         0.         0.         0.         0.\n",
            " 0.         0.         0.         0.         0.         0.\n",
            " 0.16862745 0.92156863 0.99215686 0.49411765 0.00392157 0.\n",
            " 0.         0.         0.         0.         0.         0.\n",
            " 0.         0.         0.         0.         0.         0.\n",
            " 0.         0.         0.         0.         0.         0.\n",
            " 0.         0.         0.         0.         0.38823529 0.97254902\n",
            " 0.99215686 0.46666667 0.         0.         0.         0.\n",
            " 0.         0.         0.         0.         0.         0.\n",
            " 0.         0.         0.         0.         0.         0.\n",
            " 0.         0.         0.         0.         0.         0.\n",
            " 0.         0.         0.         0.88235294 0.92156863 0.19215686\n",
            " 0.         0.         0.         0.         0.         0.\n",
            " 0.         0.         0.         0.         0.         0.\n",
            " 0.         0.         0.         0.         0.         0.\n",
            " 0.         0.         0.         0.         0.         0.\n",
            " 0.         0.         0.         0.         0.         0.\n",
            " 0.         0.         0.         0.         0.         0.\n",
            " 0.         0.         0.         0.         0.         0.\n",
            " 0.         0.         0.         0.         0.         0.\n",
            " 0.         0.         0.         0.         0.         0.\n",
            " 0.         0.         0.         0.         0.         0.\n",
            " 0.         0.         0.         0.         0.         0.\n",
            " 0.         0.         0.         0.         0.         0.\n",
            " 0.         0.         0.         0.         0.         0.\n",
            " 0.         0.         0.         0.         0.         0.\n",
            " 0.         0.         0.         0.         0.         0.\n",
            " 0.         0.         0.         0.         0.         0.\n",
            " 0.         0.         0.         0.        ]\n"
          ],
          "name": "stdout"
        }
      ]
    },
    {
      "cell_type": "code",
      "metadata": {
        "id": "yKujIIUyqC8l",
        "colab_type": "code",
        "colab": {}
      },
      "source": [
        "y_train = np_utils.to_categorical(y_train)\n",
        "y_test = np_utils.to_categorical(y_test)"
      ],
      "execution_count": 0,
      "outputs": []
    },
    {
      "cell_type": "markdown",
      "metadata": {
        "id": "E5vt52qU32ls",
        "colab_type": "text"
      },
      "source": [
        "원핫인코딩 (one-hot encoding) 처리\n",
        "\n",
        "내용이 길기 때문에 스스로 읽어본다."
      ]
    },
    {
      "cell_type": "code",
      "metadata": {
        "id": "g3C4L0jfqGNU",
        "colab_type": "code",
        "colab": {}
      },
      "source": [
        "num_classes = y_test.shape[1]"
      ],
      "execution_count": 0,
      "outputs": []
    },
    {
      "cell_type": "code",
      "metadata": {
        "id": "IQ96Tv42x2z-",
        "colab_type": "code",
        "colab": {
          "base_uri": "https://localhost:8080/",
          "height": 52
        },
        "outputId": "17433a55-0a3a-4935-bdb2-f68394ad022d"
      },
      "source": [
        "print(num_classes)\n",
        "print(num_pixels)"
      ],
      "execution_count": 30,
      "outputs": [
        {
          "output_type": "stream",
          "text": [
            "10\n",
            "784\n"
          ],
          "name": "stdout"
        }
      ]
    },
    {
      "cell_type": "markdown",
      "metadata": {
        "id": "i6vg1KTS3-yl",
        "colab_type": "text"
      },
      "source": [
        "BostonHousing 처럼 모델을 새로 정의하여 여러바퀴를 돌린다(return)"
      ]
    },
    {
      "cell_type": "code",
      "metadata": {
        "id": "vXdlRR_cqKcR",
        "colab_type": "code",
        "colab": {}
      },
      "source": [
        "def baseline_model():\n",
        "  model = Sequential()\n",
        "  model.add(Dense(num_pixels, input_dim=num_pixels, init= 'normal' , activation= 'relu' ))\n",
        "  model.add(Dense(num_classes, init= 'normal' , activation= 'softmax' ))\n",
        "  model.compile(loss= 'categorical_crossentropy' , optimizer= 'adam' , metrics=[ 'accuracy' ])\n",
        "  return model"
      ],
      "execution_count": 0,
      "outputs": []
    },
    {
      "cell_type": "code",
      "metadata": {
        "id": "00yCDZENqaak",
        "colab_type": "code",
        "colab": {
          "base_uri": "https://localhost:8080/",
          "height": 283
        },
        "outputId": "3cfe1668-2a61-4ffc-b745-e572897108e6"
      },
      "source": [
        "model = baseline_model()"
      ],
      "execution_count": 31,
      "outputs": [
        {
          "output_type": "stream",
          "text": [
            "WARNING:tensorflow:From /usr/local/lib/python3.6/dist-packages/keras/backend/tensorflow_backend.py:66: The name tf.get_default_graph is deprecated. Please use tf.compat.v1.get_default_graph instead.\n",
            "\n",
            "WARNING:tensorflow:From /usr/local/lib/python3.6/dist-packages/keras/backend/tensorflow_backend.py:541: The name tf.placeholder is deprecated. Please use tf.compat.v1.placeholder instead.\n",
            "\n",
            "WARNING:tensorflow:From /usr/local/lib/python3.6/dist-packages/keras/backend/tensorflow_backend.py:4409: The name tf.random_normal is deprecated. Please use tf.random.normal instead.\n",
            "\n",
            "WARNING:tensorflow:From /usr/local/lib/python3.6/dist-packages/keras/optimizers.py:793: The name tf.train.Optimizer is deprecated. Please use tf.compat.v1.train.Optimizer instead.\n",
            "\n",
            "WARNING:tensorflow:From /usr/local/lib/python3.6/dist-packages/keras/backend/tensorflow_backend.py:3576: The name tf.log is deprecated. Please use tf.math.log instead.\n",
            "\n"
          ],
          "name": "stdout"
        },
        {
          "output_type": "stream",
          "text": [
            "/usr/local/lib/python3.6/dist-packages/ipykernel_launcher.py:3: UserWarning: Update your `Dense` call to the Keras 2 API: `Dense(784, input_dim=784, activation=\"relu\", kernel_initializer=\"normal\")`\n",
            "  This is separate from the ipykernel package so we can avoid doing imports until\n",
            "/usr/local/lib/python3.6/dist-packages/ipykernel_launcher.py:4: UserWarning: Update your `Dense` call to the Keras 2 API: `Dense(10, activation=\"softmax\", kernel_initializer=\"normal\")`\n",
            "  after removing the cwd from sys.path.\n"
          ],
          "name": "stderr"
        }
      ]
    },
    {
      "cell_type": "code",
      "metadata": {
        "id": "M4YkF25SqdBs",
        "colab_type": "code",
        "colab": {
          "base_uri": "https://localhost:8080/",
          "height": 688
        },
        "outputId": "7c4f4523-0cdd-4836-ca27-3518bf1322fb"
      },
      "source": [
        "model.fit(X_train, y_train, validation_data=(X_test, y_test), nb_epoch=7, batch_size=200,\n",
        "verbose=2)"
      ],
      "execution_count": 32,
      "outputs": [
        {
          "output_type": "stream",
          "text": [
            "WARNING:tensorflow:From /usr/local/lib/python3.6/dist-packages/tensorflow_core/python/ops/math_grad.py:1424: where (from tensorflow.python.ops.array_ops) is deprecated and will be removed in a future version.\n",
            "Instructions for updating:\n",
            "Use tf.where in 2.0, which has the same broadcast rule as np.where\n"
          ],
          "name": "stdout"
        },
        {
          "output_type": "stream",
          "text": [
            "/usr/local/lib/python3.6/dist-packages/ipykernel_launcher.py:2: UserWarning: The `nb_epoch` argument in `fit` has been renamed `epochs`.\n",
            "  \n"
          ],
          "name": "stderr"
        },
        {
          "output_type": "stream",
          "text": [
            "WARNING:tensorflow:From /usr/local/lib/python3.6/dist-packages/keras/backend/tensorflow_backend.py:1033: The name tf.assign_add is deprecated. Please use tf.compat.v1.assign_add instead.\n",
            "\n",
            "WARNING:tensorflow:From /usr/local/lib/python3.6/dist-packages/keras/backend/tensorflow_backend.py:1020: The name tf.assign is deprecated. Please use tf.compat.v1.assign instead.\n",
            "\n",
            "WARNING:tensorflow:From /usr/local/lib/python3.6/dist-packages/keras/backend/tensorflow_backend.py:3005: The name tf.Session is deprecated. Please use tf.compat.v1.Session instead.\n",
            "\n",
            "Train on 60000 samples, validate on 10000 samples\n",
            "Epoch 1/7\n",
            "WARNING:tensorflow:From /usr/local/lib/python3.6/dist-packages/keras/backend/tensorflow_backend.py:190: The name tf.get_default_session is deprecated. Please use tf.compat.v1.get_default_session instead.\n",
            "\n",
            "WARNING:tensorflow:From /usr/local/lib/python3.6/dist-packages/keras/backend/tensorflow_backend.py:197: The name tf.ConfigProto is deprecated. Please use tf.compat.v1.ConfigProto instead.\n",
            "\n",
            "WARNING:tensorflow:From /usr/local/lib/python3.6/dist-packages/keras/backend/tensorflow_backend.py:207: The name tf.global_variables is deprecated. Please use tf.compat.v1.global_variables instead.\n",
            "\n",
            "WARNING:tensorflow:From /usr/local/lib/python3.6/dist-packages/keras/backend/tensorflow_backend.py:216: The name tf.is_variable_initialized is deprecated. Please use tf.compat.v1.is_variable_initialized instead.\n",
            "\n",
            "WARNING:tensorflow:From /usr/local/lib/python3.6/dist-packages/keras/backend/tensorflow_backend.py:223: The name tf.variables_initializer is deprecated. Please use tf.compat.v1.variables_initializer instead.\n",
            "\n",
            " - 7s - loss: 0.2818 - acc: 0.9199 - val_loss: 0.1320 - val_acc: 0.9622\n",
            "Epoch 2/7\n",
            " - 6s - loss: 0.1095 - acc: 0.9688 - val_loss: 0.0956 - val_acc: 0.9703\n",
            "Epoch 3/7\n",
            " - 6s - loss: 0.0703 - acc: 0.9796 - val_loss: 0.0822 - val_acc: 0.9751\n",
            "Epoch 4/7\n",
            " - 6s - loss: 0.0502 - acc: 0.9853 - val_loss: 0.0729 - val_acc: 0.9760\n",
            "Epoch 5/7\n",
            " - 6s - loss: 0.0356 - acc: 0.9900 - val_loss: 0.0625 - val_acc: 0.9796\n",
            "Epoch 6/7\n",
            " - 6s - loss: 0.0265 - acc: 0.9927 - val_loss: 0.0588 - val_acc: 0.9813\n",
            "Epoch 7/7\n",
            " - 6s - loss: 0.0198 - acc: 0.9951 - val_loss: 0.0591 - val_acc: 0.9806\n"
          ],
          "name": "stdout"
        },
        {
          "output_type": "execute_result",
          "data": {
            "text/plain": [
              "<keras.callbacks.History at 0x7fe8bf78c0b8>"
            ]
          },
          "metadata": {
            "tags": []
          },
          "execution_count": 32
        }
      ]
    },
    {
      "cell_type": "code",
      "metadata": {
        "id": "yT4fiSuuqhU8",
        "colab_type": "code",
        "colab": {}
      },
      "source": [
        "scores = model.evaluate(X_test, y_test, verbose=0)"
      ],
      "execution_count": 0,
      "outputs": []
    },
    {
      "cell_type": "code",
      "metadata": {
        "id": "3aI65p8Oqnfa",
        "colab_type": "code",
        "colab": {
          "base_uri": "https://localhost:8080/",
          "height": 34
        },
        "outputId": "f28a02cb-b2ed-4fd4-c424-66e191b7da83"
      },
      "source": [
        "print(\"Baseline Error: %.2f%%\" % (100-scores[1]*100))"
      ],
      "execution_count": 34,
      "outputs": [
        {
          "output_type": "stream",
          "text": [
            "Baseline Error: 1.94%\n"
          ],
          "name": "stdout"
        }
      ]
    },
    {
      "cell_type": "markdown",
      "metadata": {
        "id": "noIRS7BI4G8R",
        "colab_type": "text"
      },
      "source": [
        "아직 이 코드로는 에러값 및 정확도만을 구할 수 있다.\n",
        "\n",
        "우리가 (으음 11월 7일에는 아직 필자만 보았기 때문에 필자는) \n",
        "6만개의 그림을 보여주고 그 숫자가 무엇인지 정확하게 (오차는 저 위의 수치만) 알게하는 코드를 할것이다. 이 부분에 대해서는 다음주에 시행\n",
        "\n",
        "Note : 저 에러값을 더 줄일 수 있을까?"
      ]
    }
  ]
}