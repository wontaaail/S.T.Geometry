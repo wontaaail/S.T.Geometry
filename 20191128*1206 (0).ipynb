{
  "nbformat": 4,
  "nbformat_minor": 0,
  "metadata": {
    "colab": {
      "name": "Untitled2.ipynb",
      "provenance": [],
      "include_colab_link": true
    },
    "kernelspec": {
      "name": "python3",
      "display_name": "Python 3"
    }
  },
  "cells": [
    {
      "cell_type": "markdown",
      "metadata": {
        "id": "view-in-github",
        "colab_type": "text"
      },
      "source": [
        "<a href=\"https://colab.research.google.com/github/wontaaail/S.T.Geometry/blob/master/20191128*1206%20(0).ipynb\" target=\"_parent\"><img src=\"https://colab.research.google.com/assets/colab-badge.svg\" alt=\"Open In Colab\"/></a>"
      ]
    },
    {
      "cell_type": "markdown",
      "metadata": {
        "id": "bBMC7O8CUDr2",
        "colab_type": "text"
      },
      "source": [
        "과제에 대한 도움을 주고자 파이썬을 이용한다.\n",
        "\n",
        "9월 27일에 했었던 pima-indian-diabates 에 대한 코드를 복습한다."
      ]
    },
    {
      "cell_type": "code",
      "metadata": {
        "id": "fJnx_xGqOPPM",
        "colab_type": "code",
        "colab": {
          "base_uri": "https://localhost:8080/",
          "height": 125
        },
        "outputId": "1e9ef2e1-c6d6-480f-b8a2-09b54183fd48"
      },
      "source": [
        "from google.colab import drive\n",
        "\n",
        "drive.mount('/content/gdrive')"
      ],
      "execution_count": 1,
      "outputs": [
        {
          "output_type": "stream",
          "text": [
            "Go to this URL in a browser: https://accounts.google.com/o/oauth2/auth?client_id=947318989803-6bn6qk8qdgf4n4g3pfee6491hc0brc4i.apps.googleusercontent.com&redirect_uri=urn%3aietf%3awg%3aoauth%3a2.0%3aoob&response_type=code&scope=email%20https%3a%2f%2fwww.googleapis.com%2fauth%2fdocs.test%20https%3a%2f%2fwww.googleapis.com%2fauth%2fdrive%20https%3a%2f%2fwww.googleapis.com%2fauth%2fdrive.photos.readonly%20https%3a%2f%2fwww.googleapis.com%2fauth%2fpeopleapi.readonly\n",
            "\n",
            "Enter your authorization code:\n",
            "··········\n",
            "Mounted at /content/gdrive\n"
          ],
          "name": "stdout"
        }
      ]
    },
    {
      "cell_type": "code",
      "metadata": {
        "id": "1PTyiZStOsVy",
        "colab_type": "code",
        "colab": {
          "base_uri": "https://localhost:8080/",
          "height": 263
        },
        "outputId": "40bc7580-ea1c-4e9c-a2cf-8b7548ea83f7"
      },
      "source": [
        "!ls '/content/gdrive/My Drive/Colab Notebooks/code/'"
      ],
      "execution_count": 2,
      "outputs": [
        {
          "output_type": "stream",
          "text": [
            "0Readme.txt    15_3.py\t 20_7.py   9_3.py\n",
            "0Readme_u.md   16_1.py\t 20_8.py   BostonHousing.csv\n",
            "0Readme_u.pdf  16_3.py\t 20_9.py   diabetes.csv\n",
            "10_13.py       16_5.py\t 21_11.py  housing.csv\n",
            "10.2.py        17_4.py\t 21_1.py   ionosphere.csv\n",
            "11_14.py       17_6.py\t 21_9.py   iris.csv\n",
            "11.2.py        19_10.py  22_10.py  mnist.npz\n",
            "12_9.py        19_18.py  22_19.py  pima-indians-diabetes.csv\n",
            "13_2_base.py   19_1.py\t 22_25.py  sonar.csv\n",
            "13_2_load.py   19_20.py  24_2.py   Untitled0.ipynb\n",
            "13_2.py        20_10.py  7_9.py    Untitled1.ipynb\n",
            "14_1,4.py      20_11.py  8_3.py\n",
            "14_1.py        20_5.py\t 8_5.py\n",
            "14_7.py        20_6.py\t 9_1.py\n"
          ],
          "name": "stdout"
        }
      ]
    },
    {
      "cell_type": "code",
      "metadata": {
        "id": "XHJ2rOmzPCbN",
        "colab_type": "code",
        "colab": {}
      },
      "source": [
        "from keras.models import Sequential\n",
        "from keras.layers import Dense\n",
        "import numpy"
      ],
      "execution_count": 0,
      "outputs": []
    },
    {
      "cell_type": "code",
      "metadata": {
        "id": "WVCGeNvcPKT-",
        "colab_type": "code",
        "colab": {}
      },
      "source": [
        "seed = 7\n",
        "numpy.random.seed(seed)"
      ],
      "execution_count": 0,
      "outputs": []
    },
    {
      "cell_type": "code",
      "metadata": {
        "id": "t12DNxECPU4F",
        "colab_type": "code",
        "colab": {}
      },
      "source": [
        "dataset = numpy.loadtxt(\"/content/gdrive/My Drive/Colab Notebooks/code/pima-indians-diabetes.csv\", delimiter=\",\")"
      ],
      "execution_count": 0,
      "outputs": []
    },
    {
      "cell_type": "code",
      "metadata": {
        "id": "BPFlFE3EPiWf",
        "colab_type": "code",
        "colab": {}
      },
      "source": [
        "X = dataset[:, 0:8]\n",
        "Y = dataset[:, 8]"
      ],
      "execution_count": 0,
      "outputs": []
    },
    {
      "cell_type": "code",
      "metadata": {
        "id": "3xpx7Q2HPlu7",
        "colab_type": "code",
        "colab": {
          "base_uri": "https://localhost:8080/",
          "height": 142
        },
        "outputId": "e94c9a6c-ab69-4e91-d344-4abdb594d29b"
      },
      "source": [
        "model = Sequential()\n",
        "model.add(Dense(12, input_dim=8, init='uniform', activation='relu'))\n",
        "model.add(Dense(8, init='uniform', activation='relu'))\n",
        "model.add(Dense(1, init='uniform', activation='sigmoid'))"
      ],
      "execution_count": 10,
      "outputs": [
        {
          "output_type": "stream",
          "text": [
            "/usr/local/lib/python3.6/dist-packages/ipykernel_launcher.py:2: UserWarning: Update your `Dense` call to the Keras 2 API: `Dense(12, input_dim=8, activation=\"relu\", kernel_initializer=\"uniform\")`\n",
            "  \n",
            "/usr/local/lib/python3.6/dist-packages/ipykernel_launcher.py:3: UserWarning: Update your `Dense` call to the Keras 2 API: `Dense(8, activation=\"relu\", kernel_initializer=\"uniform\")`\n",
            "  This is separate from the ipykernel package so we can avoid doing imports until\n",
            "/usr/local/lib/python3.6/dist-packages/ipykernel_launcher.py:4: UserWarning: Update your `Dense` call to the Keras 2 API: `Dense(1, activation=\"sigmoid\", kernel_initializer=\"uniform\")`\n",
            "  after removing the cwd from sys.path.\n"
          ],
          "name": "stderr"
        }
      ]
    },
    {
      "cell_type": "code",
      "metadata": {
        "id": "coKP4IqqPyk-",
        "colab_type": "code",
        "colab": {
          "base_uri": "https://localhost:8080/",
          "height": 160
        },
        "outputId": "c32a8eec-3545-46f8-ce02-418aa2725f26"
      },
      "source": [
        "model.compile(loss= 'binary_crossentropy' , optimizer= 'adam' , metrics=[ 'accuracy' ])"
      ],
      "execution_count": 12,
      "outputs": [
        {
          "output_type": "stream",
          "text": [
            "WARNING:tensorflow:From /usr/local/lib/python3.6/dist-packages/keras/optimizers.py:793: The name tf.train.Optimizer is deprecated. Please use tf.compat.v1.train.Optimizer instead.\n",
            "\n",
            "WARNING:tensorflow:From /usr/local/lib/python3.6/dist-packages/keras/backend/tensorflow_backend.py:3657: The name tf.log is deprecated. Please use tf.math.log instead.\n",
            "\n",
            "WARNING:tensorflow:From /usr/local/lib/python3.6/dist-packages/tensorflow_core/python/ops/nn_impl.py:183: where (from tensorflow.python.ops.array_ops) is deprecated and will be removed in a future version.\n",
            "Instructions for updating:\n",
            "Use tf.where in 2.0, which has the same broadcast rule as np.where\n"
          ],
          "name": "stdout"
        }
      ]
    },
    {
      "cell_type": "markdown",
      "metadata": {
        "id": "n6481sB8UVvl",
        "colab_type": "text"
      },
      "source": [
        "지난 시간에 'adam' 에 대한 질문이 있었다.\n",
        "\n",
        "처음 설명에는 가장 기본적인 명령어라고 설명을 하고 넘어갔었지만 자세히 한번 살펴보자.\n",
        "\n",
        "최적의 매개변수 값을 찾는 방법으로 미분을 이용하는데 미분하는 방향으로 매개변수 값을 갱신하는 일을 반복하여 최적의 값에 다가는데 이것이 바로 확률적 경사 하강법(SGD)라는 방법이다.\n",
        "\n",
        "adam 은 모멘텀 + AdaGrad 이다.즉 가장 효율적인 방법이라고 생각할 수 있다.\n",
        "\n",
        "모멘텀 := 기울기 방향으로 힘을 받아 물체가 가속된다는 물리법칙을 적용한 방법\n",
        "\n",
        "AdaGrad := 학습을 진행하면서 학습률을 점차 줄여가는 방법"
      ]
    },
    {
      "cell_type": "code",
      "metadata": {
        "id": "wgZYdcbyP9Lq",
        "colab_type": "code",
        "colab": {
          "base_uri": "https://localhost:8080/",
          "height": 1000
        },
        "outputId": "9908537b-f9e0-4e66-bb18-0476907cfc64"
      },
      "source": [
        "model.fit(X, Y, validation_split=0.33, nb_epoch=150, batch_size=10)"
      ],
      "execution_count": 13,
      "outputs": [
        {
          "output_type": "stream",
          "text": [
            "/usr/local/lib/python3.6/dist-packages/ipykernel_launcher.py:1: UserWarning: The `nb_epoch` argument in `fit` has been renamed `epochs`.\n",
            "  \"\"\"Entry point for launching an IPython kernel.\n"
          ],
          "name": "stderr"
        },
        {
          "output_type": "stream",
          "text": [
            "WARNING:tensorflow:From /usr/local/lib/python3.6/dist-packages/keras/backend/tensorflow_backend.py:1033: The name tf.assign_add is deprecated. Please use tf.compat.v1.assign_add instead.\n",
            "\n",
            "WARNING:tensorflow:From /usr/local/lib/python3.6/dist-packages/keras/backend/tensorflow_backend.py:1020: The name tf.assign is deprecated. Please use tf.compat.v1.assign instead.\n",
            "\n",
            "WARNING:tensorflow:From /usr/local/lib/python3.6/dist-packages/keras/backend/tensorflow_backend.py:3005: The name tf.Session is deprecated. Please use tf.compat.v1.Session instead.\n",
            "\n",
            "Train on 514 samples, validate on 254 samples\n",
            "Epoch 1/150\n",
            "WARNING:tensorflow:From /usr/local/lib/python3.6/dist-packages/keras/backend/tensorflow_backend.py:190: The name tf.get_default_session is deprecated. Please use tf.compat.v1.get_default_session instead.\n",
            "\n",
            "WARNING:tensorflow:From /usr/local/lib/python3.6/dist-packages/keras/backend/tensorflow_backend.py:197: The name tf.ConfigProto is deprecated. Please use tf.compat.v1.ConfigProto instead.\n",
            "\n",
            "WARNING:tensorflow:From /usr/local/lib/python3.6/dist-packages/keras/backend/tensorflow_backend.py:207: The name tf.global_variables is deprecated. Please use tf.compat.v1.global_variables instead.\n",
            "\n",
            "WARNING:tensorflow:From /usr/local/lib/python3.6/dist-packages/keras/backend/tensorflow_backend.py:216: The name tf.is_variable_initialized is deprecated. Please use tf.compat.v1.is_variable_initialized instead.\n",
            "\n",
            "WARNING:tensorflow:From /usr/local/lib/python3.6/dist-packages/keras/backend/tensorflow_backend.py:223: The name tf.variables_initializer is deprecated. Please use tf.compat.v1.variables_initializer instead.\n",
            "\n",
            "514/514 [==============================] - 1s 2ms/step - loss: 0.6850 - acc: 0.6323 - val_loss: 0.6671 - val_acc: 0.6732\n",
            "Epoch 2/150\n",
            "514/514 [==============================] - 0s 161us/step - loss: 0.6753 - acc: 0.6401 - val_loss: 0.6606 - val_acc: 0.6732\n",
            "Epoch 3/150\n",
            "514/514 [==============================] - 0s 152us/step - loss: 0.6669 - acc: 0.6420 - val_loss: 0.6519 - val_acc: 0.6772\n",
            "Epoch 4/150\n",
            "514/514 [==============================] - 0s 180us/step - loss: 0.6604 - acc: 0.6381 - val_loss: 0.6511 - val_acc: 0.6654\n",
            "Epoch 5/150\n",
            "514/514 [==============================] - 0s 163us/step - loss: 0.6528 - acc: 0.6440 - val_loss: 0.6444 - val_acc: 0.6811\n",
            "Epoch 6/150\n",
            "514/514 [==============================] - 0s 164us/step - loss: 0.6462 - acc: 0.6498 - val_loss: 0.6430 - val_acc: 0.6378\n",
            "Epoch 7/150\n",
            "514/514 [==============================] - 0s 165us/step - loss: 0.6342 - acc: 0.6401 - val_loss: 0.6330 - val_acc: 0.6535\n",
            "Epoch 8/150\n",
            "514/514 [==============================] - 0s 157us/step - loss: 0.6278 - acc: 0.6518 - val_loss: 0.6252 - val_acc: 0.6535\n",
            "Epoch 9/150\n",
            "514/514 [==============================] - 0s 163us/step - loss: 0.6150 - acc: 0.6634 - val_loss: 0.6219 - val_acc: 0.6575\n",
            "Epoch 10/150\n",
            "514/514 [==============================] - 0s 151us/step - loss: 0.6121 - acc: 0.6576 - val_loss: 0.6140 - val_acc: 0.6850\n",
            "Epoch 11/150\n",
            "514/514 [==============================] - 0s 189us/step - loss: 0.6015 - acc: 0.6887 - val_loss: 0.6127 - val_acc: 0.6299\n",
            "Epoch 12/150\n",
            "514/514 [==============================] - 0s 192us/step - loss: 0.5972 - acc: 0.6984 - val_loss: 0.6193 - val_acc: 0.6654\n",
            "Epoch 13/150\n",
            "514/514 [==============================] - 0s 184us/step - loss: 0.5998 - acc: 0.6790 - val_loss: 0.6055 - val_acc: 0.6457\n",
            "Epoch 14/150\n",
            "514/514 [==============================] - 0s 188us/step - loss: 0.5909 - acc: 0.6926 - val_loss: 0.6080 - val_acc: 0.6614\n",
            "Epoch 15/150\n",
            "514/514 [==============================] - 0s 178us/step - loss: 0.5950 - acc: 0.6829 - val_loss: 0.6079 - val_acc: 0.6535\n",
            "Epoch 16/150\n",
            "514/514 [==============================] - 0s 180us/step - loss: 0.5846 - acc: 0.6887 - val_loss: 0.5974 - val_acc: 0.6535\n",
            "Epoch 17/150\n",
            "514/514 [==============================] - 0s 182us/step - loss: 0.5861 - acc: 0.7043 - val_loss: 0.5928 - val_acc: 0.7047\n",
            "Epoch 18/150\n",
            "514/514 [==============================] - 0s 177us/step - loss: 0.5760 - acc: 0.7062 - val_loss: 0.6031 - val_acc: 0.6811\n",
            "Epoch 19/150\n",
            "514/514 [==============================] - 0s 156us/step - loss: 0.5805 - acc: 0.7101 - val_loss: 0.5893 - val_acc: 0.6496\n",
            "Epoch 20/150\n",
            "514/514 [==============================] - 0s 156us/step - loss: 0.5782 - acc: 0.7004 - val_loss: 0.5890 - val_acc: 0.6535\n",
            "Epoch 21/150\n",
            "514/514 [==============================] - 0s 154us/step - loss: 0.5792 - acc: 0.6946 - val_loss: 0.5852 - val_acc: 0.6850\n",
            "Epoch 22/150\n",
            "514/514 [==============================] - 0s 178us/step - loss: 0.5793 - acc: 0.7140 - val_loss: 0.5867 - val_acc: 0.6654\n",
            "Epoch 23/150\n",
            "514/514 [==============================] - 0s 183us/step - loss: 0.5733 - acc: 0.7082 - val_loss: 0.5894 - val_acc: 0.6575\n",
            "Epoch 24/150\n",
            "514/514 [==============================] - 0s 163us/step - loss: 0.5675 - acc: 0.7160 - val_loss: 0.5881 - val_acc: 0.6850\n",
            "Epoch 25/150\n",
            "514/514 [==============================] - 0s 161us/step - loss: 0.5705 - acc: 0.7257 - val_loss: 0.5859 - val_acc: 0.6693\n",
            "Epoch 26/150\n",
            "514/514 [==============================] - 0s 161us/step - loss: 0.5640 - acc: 0.7393 - val_loss: 0.5893 - val_acc: 0.6339\n",
            "Epoch 27/150\n",
            "514/514 [==============================] - 0s 151us/step - loss: 0.5706 - acc: 0.7237 - val_loss: 0.5865 - val_acc: 0.6575\n",
            "Epoch 28/150\n",
            "514/514 [==============================] - 0s 152us/step - loss: 0.5642 - acc: 0.7296 - val_loss: 0.5815 - val_acc: 0.6890\n",
            "Epoch 29/150\n",
            "514/514 [==============================] - 0s 167us/step - loss: 0.5587 - acc: 0.7218 - val_loss: 0.5848 - val_acc: 0.7087\n",
            "Epoch 30/150\n",
            "514/514 [==============================] - 0s 182us/step - loss: 0.5607 - acc: 0.7374 - val_loss: 0.6045 - val_acc: 0.6654\n",
            "Epoch 31/150\n",
            "514/514 [==============================] - 0s 178us/step - loss: 0.5655 - acc: 0.7198 - val_loss: 0.5847 - val_acc: 0.6417\n",
            "Epoch 32/150\n",
            "514/514 [==============================] - 0s 163us/step - loss: 0.5644 - acc: 0.7296 - val_loss: 0.5780 - val_acc: 0.6850\n",
            "Epoch 33/150\n",
            "514/514 [==============================] - 0s 159us/step - loss: 0.5598 - acc: 0.7315 - val_loss: 0.5962 - val_acc: 0.6772\n",
            "Epoch 34/150\n",
            "514/514 [==============================] - 0s 173us/step - loss: 0.5651 - acc: 0.7043 - val_loss: 0.5720 - val_acc: 0.6969\n",
            "Epoch 35/150\n",
            "514/514 [==============================] - 0s 166us/step - loss: 0.5577 - acc: 0.7451 - val_loss: 0.5801 - val_acc: 0.6811\n",
            "Epoch 36/150\n",
            "514/514 [==============================] - 0s 161us/step - loss: 0.5564 - acc: 0.7335 - val_loss: 0.5823 - val_acc: 0.6693\n",
            "Epoch 37/150\n",
            "514/514 [==============================] - 0s 153us/step - loss: 0.5539 - acc: 0.7354 - val_loss: 0.5694 - val_acc: 0.7008\n",
            "Epoch 38/150\n",
            "514/514 [==============================] - 0s 165us/step - loss: 0.5500 - acc: 0.7471 - val_loss: 0.5765 - val_acc: 0.6654\n",
            "Epoch 39/150\n",
            "514/514 [==============================] - 0s 158us/step - loss: 0.5563 - acc: 0.7393 - val_loss: 0.5719 - val_acc: 0.6929\n",
            "Epoch 40/150\n",
            "514/514 [==============================] - 0s 155us/step - loss: 0.5506 - acc: 0.7354 - val_loss: 0.5722 - val_acc: 0.7047\n",
            "Epoch 41/150\n",
            "514/514 [==============================] - 0s 153us/step - loss: 0.5548 - acc: 0.7315 - val_loss: 0.5919 - val_acc: 0.7165\n",
            "Epoch 42/150\n",
            "514/514 [==============================] - 0s 149us/step - loss: 0.5509 - acc: 0.7432 - val_loss: 0.5836 - val_acc: 0.6732\n",
            "Epoch 43/150\n",
            "514/514 [==============================] - 0s 169us/step - loss: 0.5596 - acc: 0.7218 - val_loss: 0.5715 - val_acc: 0.7205\n",
            "Epoch 44/150\n",
            "514/514 [==============================] - 0s 169us/step - loss: 0.5464 - acc: 0.7335 - val_loss: 0.5701 - val_acc: 0.7047\n",
            "Epoch 45/150\n",
            "514/514 [==============================] - 0s 183us/step - loss: 0.5499 - acc: 0.7374 - val_loss: 0.5695 - val_acc: 0.7087\n",
            "Epoch 46/150\n",
            "514/514 [==============================] - 0s 186us/step - loss: 0.5526 - acc: 0.7257 - val_loss: 0.5649 - val_acc: 0.6929\n",
            "Epoch 47/150\n",
            "514/514 [==============================] - 0s 166us/step - loss: 0.5519 - acc: 0.7471 - val_loss: 0.5784 - val_acc: 0.7244\n",
            "Epoch 48/150\n",
            "514/514 [==============================] - 0s 147us/step - loss: 0.5581 - acc: 0.7374 - val_loss: 0.5661 - val_acc: 0.7087\n",
            "Epoch 49/150\n",
            "514/514 [==============================] - 0s 156us/step - loss: 0.5506 - acc: 0.7257 - val_loss: 0.5707 - val_acc: 0.7283\n",
            "Epoch 50/150\n",
            "514/514 [==============================] - 0s 164us/step - loss: 0.5465 - acc: 0.7354 - val_loss: 0.5736 - val_acc: 0.7126\n",
            "Epoch 51/150\n",
            "514/514 [==============================] - 0s 157us/step - loss: 0.5417 - acc: 0.7412 - val_loss: 0.6025 - val_acc: 0.7126\n",
            "Epoch 52/150\n",
            "514/514 [==============================] - 0s 182us/step - loss: 0.5516 - acc: 0.7432 - val_loss: 0.5699 - val_acc: 0.7165\n",
            "Epoch 53/150\n",
            "514/514 [==============================] - 0s 158us/step - loss: 0.5484 - acc: 0.7412 - val_loss: 0.5696 - val_acc: 0.7165\n",
            "Epoch 54/150\n",
            "514/514 [==============================] - 0s 170us/step - loss: 0.5450 - acc: 0.7354 - val_loss: 0.5602 - val_acc: 0.7047\n",
            "Epoch 55/150\n",
            "514/514 [==============================] - 0s 152us/step - loss: 0.5398 - acc: 0.7354 - val_loss: 0.5613 - val_acc: 0.7205\n",
            "Epoch 56/150\n",
            "514/514 [==============================] - 0s 168us/step - loss: 0.5364 - acc: 0.7451 - val_loss: 0.5584 - val_acc: 0.7362\n",
            "Epoch 57/150\n",
            "514/514 [==============================] - 0s 158us/step - loss: 0.5439 - acc: 0.7296 - val_loss: 0.5588 - val_acc: 0.7205\n",
            "Epoch 58/150\n",
            "514/514 [==============================] - 0s 161us/step - loss: 0.5427 - acc: 0.7296 - val_loss: 0.5608 - val_acc: 0.7126\n",
            "Epoch 59/150\n",
            "514/514 [==============================] - 0s 170us/step - loss: 0.5389 - acc: 0.7451 - val_loss: 0.5586 - val_acc: 0.7244\n",
            "Epoch 60/150\n",
            "514/514 [==============================] - 0s 162us/step - loss: 0.5463 - acc: 0.7276 - val_loss: 0.5818 - val_acc: 0.7165\n",
            "Epoch 61/150\n",
            "514/514 [==============================] - 0s 174us/step - loss: 0.5373 - acc: 0.7549 - val_loss: 0.5661 - val_acc: 0.7205\n",
            "Epoch 62/150\n",
            "514/514 [==============================] - 0s 157us/step - loss: 0.5296 - acc: 0.7471 - val_loss: 0.5940 - val_acc: 0.7283\n",
            "Epoch 63/150\n",
            "514/514 [==============================] - 0s 157us/step - loss: 0.5470 - acc: 0.7315 - val_loss: 0.5710 - val_acc: 0.7047\n",
            "Epoch 64/150\n",
            "514/514 [==============================] - 0s 187us/step - loss: 0.5383 - acc: 0.7490 - val_loss: 0.5618 - val_acc: 0.7283\n",
            "Epoch 65/150\n",
            "514/514 [==============================] - 0s 171us/step - loss: 0.5326 - acc: 0.7432 - val_loss: 0.5588 - val_acc: 0.7165\n",
            "Epoch 66/150\n",
            "514/514 [==============================] - 0s 167us/step - loss: 0.5461 - acc: 0.7432 - val_loss: 0.5596 - val_acc: 0.7323\n",
            "Epoch 67/150\n",
            "514/514 [==============================] - 0s 180us/step - loss: 0.5336 - acc: 0.7743 - val_loss: 0.5649 - val_acc: 0.7441\n",
            "Epoch 68/150\n",
            "514/514 [==============================] - 0s 161us/step - loss: 0.5309 - acc: 0.7374 - val_loss: 0.5600 - val_acc: 0.7402\n",
            "Epoch 69/150\n",
            "514/514 [==============================] - 0s 161us/step - loss: 0.5277 - acc: 0.7374 - val_loss: 0.5534 - val_acc: 0.7362\n",
            "Epoch 70/150\n",
            "514/514 [==============================] - 0s 163us/step - loss: 0.5312 - acc: 0.7432 - val_loss: 0.5716 - val_acc: 0.7283\n",
            "Epoch 71/150\n",
            "514/514 [==============================] - 0s 169us/step - loss: 0.5316 - acc: 0.7432 - val_loss: 0.5807 - val_acc: 0.7126\n",
            "Epoch 72/150\n",
            "514/514 [==============================] - 0s 169us/step - loss: 0.5253 - acc: 0.7432 - val_loss: 0.5825 - val_acc: 0.7126\n",
            "Epoch 73/150\n",
            "514/514 [==============================] - 0s 156us/step - loss: 0.5289 - acc: 0.7665 - val_loss: 0.5443 - val_acc: 0.7165\n",
            "Epoch 74/150\n",
            "514/514 [==============================] - 0s 174us/step - loss: 0.5326 - acc: 0.7296 - val_loss: 0.5455 - val_acc: 0.7441\n",
            "Epoch 75/150\n",
            "514/514 [==============================] - 0s 162us/step - loss: 0.5245 - acc: 0.7451 - val_loss: 0.5446 - val_acc: 0.7323\n",
            "Epoch 76/150\n",
            "514/514 [==============================] - 0s 168us/step - loss: 0.5174 - acc: 0.7568 - val_loss: 0.5819 - val_acc: 0.7087\n",
            "Epoch 77/150\n",
            "514/514 [==============================] - 0s 164us/step - loss: 0.5343 - acc: 0.7374 - val_loss: 0.5447 - val_acc: 0.7362\n",
            "Epoch 78/150\n",
            "514/514 [==============================] - 0s 163us/step - loss: 0.5219 - acc: 0.7510 - val_loss: 0.5640 - val_acc: 0.7205\n",
            "Epoch 79/150\n",
            "514/514 [==============================] - 0s 158us/step - loss: 0.5302 - acc: 0.7432 - val_loss: 0.5546 - val_acc: 0.7283\n",
            "Epoch 80/150\n",
            "514/514 [==============================] - 0s 160us/step - loss: 0.5241 - acc: 0.7412 - val_loss: 0.5400 - val_acc: 0.7598\n",
            "Epoch 81/150\n",
            "514/514 [==============================] - 0s 157us/step - loss: 0.5199 - acc: 0.7607 - val_loss: 0.5605 - val_acc: 0.7402\n",
            "Epoch 82/150\n",
            "514/514 [==============================] - 0s 162us/step - loss: 0.5197 - acc: 0.7315 - val_loss: 0.5350 - val_acc: 0.7677\n",
            "Epoch 83/150\n",
            "514/514 [==============================] - 0s 158us/step - loss: 0.5184 - acc: 0.7568 - val_loss: 0.5370 - val_acc: 0.7559\n",
            "Epoch 84/150\n",
            "514/514 [==============================] - 0s 166us/step - loss: 0.5184 - acc: 0.7451 - val_loss: 0.5341 - val_acc: 0.7598\n",
            "Epoch 85/150\n",
            "514/514 [==============================] - 0s 154us/step - loss: 0.5237 - acc: 0.7354 - val_loss: 0.5375 - val_acc: 0.7717\n",
            "Epoch 86/150\n",
            "514/514 [==============================] - 0s 161us/step - loss: 0.5135 - acc: 0.7471 - val_loss: 0.5289 - val_acc: 0.7323\n",
            "Epoch 87/150\n",
            "514/514 [==============================] - 0s 170us/step - loss: 0.5191 - acc: 0.7588 - val_loss: 0.5245 - val_acc: 0.7520\n",
            "Epoch 88/150\n",
            "514/514 [==============================] - 0s 154us/step - loss: 0.5159 - acc: 0.7607 - val_loss: 0.5603 - val_acc: 0.7480\n",
            "Epoch 89/150\n",
            "514/514 [==============================] - 0s 165us/step - loss: 0.5283 - acc: 0.7646 - val_loss: 0.5380 - val_acc: 0.7717\n",
            "Epoch 90/150\n",
            "514/514 [==============================] - 0s 161us/step - loss: 0.5097 - acc: 0.7724 - val_loss: 0.5350 - val_acc: 0.7244\n",
            "Epoch 91/150\n",
            "514/514 [==============================] - 0s 164us/step - loss: 0.5159 - acc: 0.7510 - val_loss: 0.5422 - val_acc: 0.7323\n",
            "Epoch 92/150\n",
            "514/514 [==============================] - 0s 157us/step - loss: 0.5099 - acc: 0.7549 - val_loss: 0.5372 - val_acc: 0.7441\n",
            "Epoch 93/150\n",
            "514/514 [==============================] - 0s 166us/step - loss: 0.5139 - acc: 0.7626 - val_loss: 0.5535 - val_acc: 0.7362\n",
            "Epoch 94/150\n",
            "514/514 [==============================] - 0s 201us/step - loss: 0.5126 - acc: 0.7588 - val_loss: 0.5293 - val_acc: 0.7362\n",
            "Epoch 95/150\n",
            "514/514 [==============================] - 0s 163us/step - loss: 0.5222 - acc: 0.7451 - val_loss: 0.5202 - val_acc: 0.7559\n",
            "Epoch 96/150\n",
            "514/514 [==============================] - 0s 182us/step - loss: 0.5229 - acc: 0.7471 - val_loss: 0.5261 - val_acc: 0.7559\n",
            "Epoch 97/150\n",
            "514/514 [==============================] - 0s 175us/step - loss: 0.5063 - acc: 0.7685 - val_loss: 0.5369 - val_acc: 0.7559\n",
            "Epoch 98/150\n",
            "514/514 [==============================] - 0s 162us/step - loss: 0.5112 - acc: 0.7490 - val_loss: 0.5300 - val_acc: 0.7677\n",
            "Epoch 99/150\n",
            "514/514 [==============================] - 0s 177us/step - loss: 0.5074 - acc: 0.7471 - val_loss: 0.5259 - val_acc: 0.7677\n",
            "Epoch 100/150\n",
            "514/514 [==============================] - 0s 183us/step - loss: 0.5088 - acc: 0.7588 - val_loss: 0.5328 - val_acc: 0.7638\n",
            "Epoch 101/150\n",
            "514/514 [==============================] - 0s 167us/step - loss: 0.5088 - acc: 0.7626 - val_loss: 0.5355 - val_acc: 0.7402\n",
            "Epoch 102/150\n",
            "514/514 [==============================] - 0s 161us/step - loss: 0.5141 - acc: 0.7451 - val_loss: 0.5272 - val_acc: 0.7638\n",
            "Epoch 103/150\n",
            "514/514 [==============================] - 0s 158us/step - loss: 0.5041 - acc: 0.7626 - val_loss: 0.5282 - val_acc: 0.7598\n",
            "Epoch 104/150\n",
            "514/514 [==============================] - 0s 172us/step - loss: 0.5129 - acc: 0.7588 - val_loss: 0.5168 - val_acc: 0.7559\n",
            "Epoch 105/150\n",
            "514/514 [==============================] - 0s 164us/step - loss: 0.5029 - acc: 0.7588 - val_loss: 0.5269 - val_acc: 0.7362\n",
            "Epoch 106/150\n",
            "514/514 [==============================] - 0s 163us/step - loss: 0.5022 - acc: 0.7471 - val_loss: 0.5309 - val_acc: 0.7480\n",
            "Epoch 107/150\n",
            "514/514 [==============================] - 0s 173us/step - loss: 0.5054 - acc: 0.7471 - val_loss: 0.5200 - val_acc: 0.7756\n",
            "Epoch 108/150\n",
            "514/514 [==============================] - 0s 171us/step - loss: 0.5078 - acc: 0.7607 - val_loss: 0.5320 - val_acc: 0.7598\n",
            "Epoch 109/150\n",
            "514/514 [==============================] - 0s 174us/step - loss: 0.5025 - acc: 0.7568 - val_loss: 0.5187 - val_acc: 0.7717\n",
            "Epoch 110/150\n",
            "514/514 [==============================] - 0s 169us/step - loss: 0.4950 - acc: 0.7704 - val_loss: 0.5197 - val_acc: 0.7559\n",
            "Epoch 111/150\n",
            "514/514 [==============================] - 0s 169us/step - loss: 0.5065 - acc: 0.7607 - val_loss: 0.5208 - val_acc: 0.7756\n",
            "Epoch 112/150\n",
            "514/514 [==============================] - 0s 172us/step - loss: 0.5051 - acc: 0.7626 - val_loss: 0.5199 - val_acc: 0.7598\n",
            "Epoch 113/150\n",
            "514/514 [==============================] - 0s 158us/step - loss: 0.4970 - acc: 0.7549 - val_loss: 0.5211 - val_acc: 0.7559\n",
            "Epoch 114/150\n",
            "514/514 [==============================] - 0s 176us/step - loss: 0.4989 - acc: 0.7588 - val_loss: 0.5189 - val_acc: 0.7756\n",
            "Epoch 115/150\n",
            "514/514 [==============================] - 0s 161us/step - loss: 0.4998 - acc: 0.7665 - val_loss: 0.5128 - val_acc: 0.7638\n",
            "Epoch 116/150\n",
            "514/514 [==============================] - 0s 169us/step - loss: 0.5095 - acc: 0.7432 - val_loss: 0.5408 - val_acc: 0.7520\n",
            "Epoch 117/150\n",
            "514/514 [==============================] - 0s 173us/step - loss: 0.5019 - acc: 0.7685 - val_loss: 0.5208 - val_acc: 0.7874\n",
            "Epoch 118/150\n",
            "514/514 [==============================] - 0s 156us/step - loss: 0.5021 - acc: 0.7646 - val_loss: 0.5182 - val_acc: 0.7441\n",
            "Epoch 119/150\n",
            "514/514 [==============================] - 0s 155us/step - loss: 0.5050 - acc: 0.7607 - val_loss: 0.5132 - val_acc: 0.7795\n",
            "Epoch 120/150\n",
            "514/514 [==============================] - 0s 193us/step - loss: 0.5074 - acc: 0.7549 - val_loss: 0.5284 - val_acc: 0.7756\n",
            "Epoch 121/150\n",
            "514/514 [==============================] - 0s 187us/step - loss: 0.4966 - acc: 0.7665 - val_loss: 0.5080 - val_acc: 0.7559\n",
            "Epoch 122/150\n",
            "514/514 [==============================] - 0s 186us/step - loss: 0.4904 - acc: 0.7568 - val_loss: 0.5190 - val_acc: 0.7717\n",
            "Epoch 123/150\n",
            "514/514 [==============================] - 0s 193us/step - loss: 0.5003 - acc: 0.7607 - val_loss: 0.5077 - val_acc: 0.7598\n",
            "Epoch 124/150\n",
            "514/514 [==============================] - 0s 161us/step - loss: 0.5025 - acc: 0.7607 - val_loss: 0.5119 - val_acc: 0.7677\n",
            "Epoch 125/150\n",
            "514/514 [==============================] - 0s 166us/step - loss: 0.4979 - acc: 0.7646 - val_loss: 0.5164 - val_acc: 0.7520\n",
            "Epoch 126/150\n",
            "514/514 [==============================] - 0s 153us/step - loss: 0.5029 - acc: 0.7471 - val_loss: 0.5015 - val_acc: 0.7835\n",
            "Epoch 127/150\n",
            "514/514 [==============================] - 0s 157us/step - loss: 0.4950 - acc: 0.7665 - val_loss: 0.5225 - val_acc: 0.7717\n",
            "Epoch 128/150\n",
            "514/514 [==============================] - 0s 169us/step - loss: 0.4913 - acc: 0.7724 - val_loss: 0.5199 - val_acc: 0.7874\n",
            "Epoch 129/150\n",
            "514/514 [==============================] - 0s 179us/step - loss: 0.4953 - acc: 0.7763 - val_loss: 0.5097 - val_acc: 0.7441\n",
            "Epoch 130/150\n",
            "514/514 [==============================] - 0s 166us/step - loss: 0.4903 - acc: 0.7704 - val_loss: 0.5042 - val_acc: 0.7795\n",
            "Epoch 131/150\n",
            "514/514 [==============================] - 0s 194us/step - loss: 0.4897 - acc: 0.7626 - val_loss: 0.5097 - val_acc: 0.7598\n",
            "Epoch 132/150\n",
            "514/514 [==============================] - 0s 187us/step - loss: 0.4920 - acc: 0.7626 - val_loss: 0.5144 - val_acc: 0.7402\n",
            "Epoch 133/150\n",
            "514/514 [==============================] - 0s 167us/step - loss: 0.4892 - acc: 0.7646 - val_loss: 0.5143 - val_acc: 0.7559\n",
            "Epoch 134/150\n",
            "514/514 [==============================] - 0s 166us/step - loss: 0.4947 - acc: 0.7685 - val_loss: 0.5107 - val_acc: 0.7520\n",
            "Epoch 135/150\n",
            "514/514 [==============================] - 0s 157us/step - loss: 0.4882 - acc: 0.7860 - val_loss: 0.5087 - val_acc: 0.7677\n",
            "Epoch 136/150\n",
            "514/514 [==============================] - 0s 172us/step - loss: 0.4811 - acc: 0.7704 - val_loss: 0.5243 - val_acc: 0.7756\n",
            "Epoch 137/150\n",
            "514/514 [==============================] - 0s 151us/step - loss: 0.4915 - acc: 0.7646 - val_loss: 0.5165 - val_acc: 0.7480\n",
            "Epoch 138/150\n",
            "514/514 [==============================] - 0s 158us/step - loss: 0.4889 - acc: 0.7685 - val_loss: 0.5037 - val_acc: 0.7638\n",
            "Epoch 139/150\n",
            "514/514 [==============================] - 0s 164us/step - loss: 0.4818 - acc: 0.7704 - val_loss: 0.5143 - val_acc: 0.7717\n",
            "Epoch 140/150\n",
            "514/514 [==============================] - 0s 177us/step - loss: 0.4907 - acc: 0.7782 - val_loss: 0.5042 - val_acc: 0.7835\n",
            "Epoch 141/150\n",
            "514/514 [==============================] - 0s 158us/step - loss: 0.4846 - acc: 0.7802 - val_loss: 0.5058 - val_acc: 0.7677\n",
            "Epoch 142/150\n",
            "514/514 [==============================] - 0s 157us/step - loss: 0.4993 - acc: 0.7607 - val_loss: 0.5151 - val_acc: 0.7835\n",
            "Epoch 143/150\n",
            "514/514 [==============================] - 0s 164us/step - loss: 0.4893 - acc: 0.7763 - val_loss: 0.5248 - val_acc: 0.7638\n",
            "Epoch 144/150\n",
            "514/514 [==============================] - 0s 177us/step - loss: 0.4827 - acc: 0.7704 - val_loss: 0.5052 - val_acc: 0.7677\n",
            "Epoch 145/150\n",
            "514/514 [==============================] - 0s 172us/step - loss: 0.4820 - acc: 0.7763 - val_loss: 0.5015 - val_acc: 0.7756\n",
            "Epoch 146/150\n",
            "514/514 [==============================] - 0s 158us/step - loss: 0.4812 - acc: 0.7665 - val_loss: 0.5072 - val_acc: 0.7598\n",
            "Epoch 147/150\n",
            "514/514 [==============================] - 0s 176us/step - loss: 0.4824 - acc: 0.7685 - val_loss: 0.5020 - val_acc: 0.7874\n",
            "Epoch 148/150\n",
            "514/514 [==============================] - 0s 156us/step - loss: 0.4874 - acc: 0.7782 - val_loss: 0.4969 - val_acc: 0.7835\n",
            "Epoch 149/150\n",
            "514/514 [==============================] - 0s 162us/step - loss: 0.4764 - acc: 0.7646 - val_loss: 0.4991 - val_acc: 0.7795\n",
            "Epoch 150/150\n",
            "514/514 [==============================] - 0s 164us/step - loss: 0.4802 - acc: 0.7743 - val_loss: 0.5052 - val_acc: 0.7756\n"
          ],
          "name": "stdout"
        },
        {
          "output_type": "execute_result",
          "data": {
            "text/plain": [
              "<keras.callbacks.History at 0x7fba994f74a8>"
            ]
          },
          "metadata": {
            "tags": []
          },
          "execution_count": 13
        }
      ]
    },
    {
      "cell_type": "code",
      "metadata": {
        "id": "bdvzsNW5QdWj",
        "colab_type": "code",
        "colab": {
          "base_uri": "https://localhost:8080/",
          "height": 34
        },
        "outputId": "bcc1ccdb-3e82-4cf3-c000-c528612e5d68"
      },
      "source": [
        "scores = model.evaluate(X, Y)"
      ],
      "execution_count": 14,
      "outputs": [
        {
          "output_type": "stream",
          "text": [
            "768/768 [==============================] - 0s 38us/step\n"
          ],
          "name": "stdout"
        }
      ]
    },
    {
      "cell_type": "code",
      "metadata": {
        "id": "Zv-i6VhhQfh2",
        "colab_type": "code",
        "colab": {
          "base_uri": "https://localhost:8080/",
          "height": 34
        },
        "outputId": "b00bdcbe-24ab-4362-bcf5-3bf64359355d"
      },
      "source": [
        "print(\"%s: %.2f%%\" % (model.metrics_names[1], scores[1] * 100))"
      ],
      "execution_count": 17,
      "outputs": [
        {
          "output_type": "stream",
          "text": [
            "acc: 78.52%\n"
          ],
          "name": "stdout"
        }
      ]
    }
  ]
}