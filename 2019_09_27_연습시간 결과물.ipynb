{
  "nbformat": 4,
  "nbformat_minor": 0,
  "metadata": {
    "colab": {
      "name": "2019-09-27.ipynb",
      "provenance": [],
      "include_colab_link": true
    },
    "kernelspec": {
      "name": "python3",
      "display_name": "Python 3"
    }
  },
  "cells": [
    {
      "cell_type": "markdown",
      "metadata": {
        "id": "view-in-github",
        "colab_type": "text"
      },
      "source": [
        "<a href=\"https://colab.research.google.com/github/wontaaail/S.T.Geometry/blob/master/2019_09_27_%EC%97%B0%EC%8A%B5%EC%8B%9C%EA%B0%84%20%EA%B2%B0%EA%B3%BC%EB%AC%BC.ipynb\" target=\"_parent\"><img src=\"https://colab.research.google.com/assets/colab-badge.svg\" alt=\"Open In Colab\"/></a>"
      ]
    },
    {
      "cell_type": "markdown",
      "metadata": {
        "id": "8Ci-l1uX4PnA",
        "colab_type": "text"
      },
      "source": [
        "2019년 9월 27일에 진행되었던 기하학특강 연습시간에 돌려보았던 코드와\n",
        "\n",
        "각 코드 줄에 대한 설명입니다.\n",
        "\n",
        "자세한 설명보다는 간단하게 주석 느낌으로 작성합니다.\n",
        "\n",
        "9/28 PM 12:21- 이원주"
      ]
    },
    {
      "cell_type": "markdown",
      "metadata": {
        "id": "cR_bkaXU4eu8",
        "colab_type": "text"
      },
      "source": [
        "\n",
        "\n",
        "*   review : install keras, connect at google dirve (이 과정은 개별적으로 필요한 사람만 해당 )\n",
        "\n"
      ]
    },
    {
      "cell_type": "code",
      "metadata": {
        "id": "uO17fhi4uP6g",
        "colab_type": "code",
        "colab": {}
      },
      "source": [
        "from google.colab import drive\n",
        "\n",
        "drive.mount('/content/gdrive')"
      ],
      "execution_count": 0,
      "outputs": []
    },
    {
      "cell_type": "code",
      "metadata": {
        "id": "8AhCC2e4uXkt",
        "colab_type": "code",
        "colab": {}
      },
      "source": [
        "!ls '/content/gdrive/My Drive/Colab Notebooks/code/'"
      ],
      "execution_count": 0,
      "outputs": []
    },
    {
      "cell_type": "code",
      "metadata": {
        "id": "6JArXDUirLmD",
        "colab_type": "code",
        "colab": {}
      },
      "source": [
        "from keras.models import Sequential\n",
        "from keras.layers import Dense\n",
        "import numpy"
      ],
      "execution_count": 0,
      "outputs": []
    },
    {
      "cell_type": "markdown",
      "metadata": {
        "id": "If6o1_Ol5AjO",
        "colab_type": "text"
      },
      "source": [
        "seed 값을 추가한다. seed 값에는 0이상의 정수가 필요"
      ]
    },
    {
      "cell_type": "code",
      "metadata": {
        "id": "VXPciB8Drd_7",
        "colab_type": "code",
        "colab": {}
      },
      "source": [
        "seed = 9\n",
        "numpy.random.seed(seed)"
      ],
      "execution_count": 0,
      "outputs": []
    },
    {
      "cell_type": "markdown",
      "metadata": {
        "id": "zky1faBO5FaC",
        "colab_type": "text"
      },
      "source": [
        "원본 데이터파일을 불러온다. 필자는 구글 드라이브를 연동시켜서 가지고 온것"
      ]
    },
    {
      "cell_type": "code",
      "metadata": {
        "id": "H1ES-sy0riWy",
        "colab_type": "code",
        "colab": {}
      },
      "source": [
        "dataset = numpy.loadtxt(\"/content/gdrive/My Drive/Colab Notebooks/code/pima-indians-diabetes.csv\", delimiter=\",\")"
      ],
      "execution_count": 0,
      "outputs": []
    },
    {
      "cell_type": "markdown",
      "metadata": {
        "id": "aW6EuUA85Zvi",
        "colab_type": "text"
      },
      "source": [
        "데이터셋을 만든다 X의 0:8 은 0번째항(맨 처음이라고 봐도 무방)부터 8개의 항,Y의 8 은 8번째항(9번째)항"
      ]
    },
    {
      "cell_type": "code",
      "metadata": {
        "id": "Bd_hzktDui6K",
        "colab_type": "code",
        "colab": {}
      },
      "source": [
        "X = dataset[:, 0:8]\n",
        "Y = dataset[:, 8]"
      ],
      "execution_count": 0,
      "outputs": []
    },
    {
      "cell_type": "markdown",
      "metadata": {
        "id": "TSg8fhXX5y_H",
        "colab_type": "text"
      },
      "source": [
        "모델을 하나씩 구성한다.\n",
        "uniform 은 규격화 시킨다는 명령어, relu는 은닉시키는 명령어, sigmoid는 2인법 명령어"
      ]
    },
    {
      "cell_type": "code",
      "metadata": {
        "id": "2lqROMSmurJj",
        "colab_type": "code",
        "colab": {}
      },
      "source": [
        "model = Sequential()\n",
        "model.add(Dense(16, input_dim=8, init='uniform', activation='relu'))\n",
        "model.add(Dense(8, init='uniform', activation='relu'))\n",
        "model.add(Dense(1, init='uniform', activation='sigmoid'))"
      ],
      "execution_count": 0,
      "outputs": []
    },
    {
      "cell_type": "markdown",
      "metadata": {
        "id": "_QYOI_dI6EKw",
        "colab_type": "text"
      },
      "source": [
        "앞의 모델 3개를 1개로 붙인다."
      ]
    },
    {
      "cell_type": "code",
      "metadata": {
        "id": "6D-d4PD9u7rU",
        "colab_type": "code",
        "colab": {}
      },
      "source": [
        "model.compile(loss='binary_crossentropy',\n",
        "              optimizer='adam', metrics=['accuracy'])"
      ],
      "execution_count": 0,
      "outputs": []
    },
    {
      "cell_type": "markdown",
      "metadata": {
        "id": "tk8XOqoS6Jmj",
        "colab_type": "text"
      },
      "source": [
        "1개로 붙인 모델에 데이터를 장착시키고 돌린다."
      ]
    },
    {
      "cell_type": "code",
      "metadata": {
        "id": "X6TnqAoHu-5D",
        "colab_type": "code",
        "colab": {}
      },
      "source": [
        "model.fit(X, Y, nb_epoch=150, batch_size=10)"
      ],
      "execution_count": 0,
      "outputs": []
    },
    {
      "cell_type": "code",
      "metadata": {
        "id": "FWwgzHdLvHKj",
        "colab_type": "code",
        "colab": {}
      },
      "source": [
        "scores = model.evaluate(X, Y)"
      ],
      "execution_count": 0,
      "outputs": []
    },
    {
      "cell_type": "markdown",
      "metadata": {
        "id": "9_hAo-vP6QSo",
        "colab_type": "text"
      },
      "source": [
        "결과값 및 정확도가 출력된다."
      ]
    },
    {
      "cell_type": "code",
      "metadata": {
        "id": "1vCNK2H9vJs6",
        "colab_type": "code",
        "colab": {}
      },
      "source": [
        "print(\"%s: %.2f%%\" % (model.metrics_names[1], scores[1] * 100))"
      ],
      "execution_count": 0,
      "outputs": []
    },
    {
      "cell_type": "markdown",
      "metadata": {
        "id": "8OqTUYVE6ajQ",
        "colab_type": "text"
      },
      "source": [
        "\n",
        "\n",
        "*   위의 코드들에 대해 다른 숫자나 더 좋은 명령어를 찾아보고 직접 코드를 돌려본다.\n",
        "*   더 좋은 결과값이나 나타나는 오류에 대해 토론해본다.\n",
        "*   다음 시간(10월 11일)에는 다른 코드와 데이터들로 분석을 해볼 예정\n",
        "*   10월 4일에는 조교가 개인적인 사정(사랑니 수술)에 의해 연습수업을 쉽니다.\n",
        "\n",
        "\n",
        "\n"
      ]
    }
  ]
}