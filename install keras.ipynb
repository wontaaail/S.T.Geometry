{
  "nbformat": 4,
  "nbformat_minor": 0,
  "metadata": {
    "colab": {
      "name": "Untitled0.ipynb",
      "version": "0.3.2",
      "provenance": [],
      "include_colab_link": true
    },
    "kernelspec": {
      "name": "python3",
      "display_name": "Python 3"
    }
  },
  "cells": [
    {
      "cell_type": "markdown",
      "metadata": {
        "id": "view-in-github",
        "colab_type": "text"
      },
      "source": [
        "<a href=\"https://colab.research.google.com/github/wontaaail/S.T.Geometry/blob/master/install%20keras.ipynb\" target=\"_parent\"><img src=\"https://colab.research.google.com/assets/colab-badge.svg\" alt=\"Open In Colab\"/></a>"
      ]
    },
    {
      "cell_type": "code",
      "metadata": {
        "id": "v0abWxJr-qIN",
        "colab_type": "code",
        "outputId": "0b3a1774-1b10-4c9a-aaec-db509acdc75f",
        "colab": {
          "base_uri": "https://localhost:8080/",
          "height": 158
        }
      },
      "source": [
        "pip install keras"
      ],
      "execution_count": 0,
      "outputs": [
        {
          "output_type": "stream",
          "text": [
            "Requirement already satisfied: keras in /usr/local/lib/python3.6/dist-packages (2.2.4)\n",
            "Requirement already satisfied: keras-applications>=1.0.6 in /usr/local/lib/python3.6/dist-packages (from keras) (1.0.8)\n",
            "Requirement already satisfied: pyyaml in /usr/local/lib/python3.6/dist-packages (from keras) (3.13)\n",
            "Requirement already satisfied: h5py in /usr/local/lib/python3.6/dist-packages (from keras) (2.8.0)\n",
            "Requirement already satisfied: numpy>=1.9.1 in /usr/local/lib/python3.6/dist-packages (from keras) (1.16.4)\n",
            "Requirement already satisfied: keras-preprocessing>=1.0.5 in /usr/local/lib/python3.6/dist-packages (from keras) (1.1.0)\n",
            "Requirement already satisfied: scipy>=0.14 in /usr/local/lib/python3.6/dist-packages (from keras) (1.3.1)\n",
            "Requirement already satisfied: six>=1.9.0 in /usr/local/lib/python3.6/dist-packages (from keras) (1.12.0)\n"
          ],
          "name": "stdout"
        }
      ]
    },
    {
      "cell_type": "code",
      "metadata": {
        "id": "Dolg0_IHCfYB",
        "colab_type": "code",
        "outputId": "cf328365-87f4-41cf-e785-6b5da7b3a398",
        "colab": {
          "base_uri": "https://localhost:8080/",
          "height": 52
        }
      },
      "source": [
        "import keras; print(keras.__version__)"
      ],
      "execution_count": 0,
      "outputs": [
        {
          "output_type": "stream",
          "text": [
            "Using TensorFlow backend.\n"
          ],
          "name": "stderr"
        },
        {
          "output_type": "stream",
          "text": [
            "2.2.4\n"
          ],
          "name": "stdout"
        }
      ]
    },
    {
      "cell_type": "code",
      "metadata": {
        "id": "JOqYbL5MCyv9",
        "colab_type": "code",
        "outputId": "71bb6315-4712-46d5-8bc4-50c1ee7391f5",
        "colab": {
          "base_uri": "https://localhost:8080/",
          "height": 370
        }
      },
      "source": [
        "pip install --upgrade keras"
      ],
      "execution_count": 0,
      "outputs": [
        {
          "output_type": "stream",
          "text": [
            "Collecting keras\n",
            "\u001b[?25l  Downloading https://files.pythonhosted.org/packages/f8/ba/2d058dcf1b85b9c212cc58264c98a4a7dd92c989b798823cc5690d062bb2/Keras-2.2.5-py2.py3-none-any.whl (336kB)\n",
            "\r\u001b[K     |█                               | 10kB 14.8MB/s eta 0:00:01\r\u001b[K     |██                              | 20kB 1.7MB/s eta 0:00:01\r\u001b[K     |███                             | 30kB 2.6MB/s eta 0:00:01\r\u001b[K     |████                            | 40kB 1.7MB/s eta 0:00:01\r\u001b[K     |████▉                           | 51kB 2.1MB/s eta 0:00:01\r\u001b[K     |█████▉                          | 61kB 2.5MB/s eta 0:00:01\r\u001b[K     |██████▉                         | 71kB 2.9MB/s eta 0:00:01\r\u001b[K     |███████▉                        | 81kB 3.2MB/s eta 0:00:01\r\u001b[K     |████████▊                       | 92kB 3.6MB/s eta 0:00:01\r\u001b[K     |█████████▊                      | 102kB 2.8MB/s eta 0:00:01\r\u001b[K     |██████████▊                     | 112kB 2.8MB/s eta 0:00:01\r\u001b[K     |███████████▊                    | 122kB 2.8MB/s eta 0:00:01\r\u001b[K     |████████████▊                   | 133kB 2.8MB/s eta 0:00:01\r\u001b[K     |█████████████▋                  | 143kB 2.8MB/s eta 0:00:01\r\u001b[K     |██████████████▋                 | 153kB 2.8MB/s eta 0:00:01\r\u001b[K     |███████████████▋                | 163kB 2.8MB/s eta 0:00:01\r\u001b[K     |████████████████▋               | 174kB 2.8MB/s eta 0:00:01\r\u001b[K     |█████████████████▌              | 184kB 2.8MB/s eta 0:00:01\r\u001b[K     |██████████████████▌             | 194kB 2.8MB/s eta 0:00:01\r\u001b[K     |███████████████████▌            | 204kB 2.8MB/s eta 0:00:01\r\u001b[K     |████████████████████▌           | 215kB 2.8MB/s eta 0:00:01\r\u001b[K     |█████████████████████▍          | 225kB 2.8MB/s eta 0:00:01\r\u001b[K     |██████████████████████▍         | 235kB 2.8MB/s eta 0:00:01\r\u001b[K     |███████████████████████▍        | 245kB 2.8MB/s eta 0:00:01\r\u001b[K     |████████████████████████▍       | 256kB 2.8MB/s eta 0:00:01\r\u001b[K     |█████████████████████████▍      | 266kB 2.8MB/s eta 0:00:01\r\u001b[K     |██████████████████████████▎     | 276kB 2.8MB/s eta 0:00:01\r\u001b[K     |███████████████████████████▎    | 286kB 2.8MB/s eta 0:00:01\r\u001b[K     |████████████████████████████▎   | 296kB 2.8MB/s eta 0:00:01\r\u001b[K     |█████████████████████████████▎  | 307kB 2.8MB/s eta 0:00:01\r\u001b[K     |██████████████████████████████▏ | 317kB 2.8MB/s eta 0:00:01\r\u001b[K     |███████████████████████████████▏| 327kB 2.8MB/s eta 0:00:01\r\u001b[K     |████████████████████████████████| 337kB 2.8MB/s \n",
            "\u001b[?25hRequirement already satisfied, skipping upgrade: h5py in /usr/local/lib/python3.6/dist-packages (from keras) (2.8.0)\n",
            "Requirement already satisfied, skipping upgrade: keras-preprocessing>=1.1.0 in /usr/local/lib/python3.6/dist-packages (from keras) (1.1.0)\n",
            "Requirement already satisfied, skipping upgrade: scipy>=0.14 in /usr/local/lib/python3.6/dist-packages (from keras) (1.3.1)\n",
            "Requirement already satisfied, skipping upgrade: numpy>=1.9.1 in /usr/local/lib/python3.6/dist-packages (from keras) (1.16.4)\n",
            "Requirement already satisfied, skipping upgrade: six>=1.9.0 in /usr/local/lib/python3.6/dist-packages (from keras) (1.12.0)\n",
            "Requirement already satisfied, skipping upgrade: keras-applications>=1.0.8 in /usr/local/lib/python3.6/dist-packages (from keras) (1.0.8)\n",
            "Requirement already satisfied, skipping upgrade: pyyaml in /usr/local/lib/python3.6/dist-packages (from keras) (3.13)\n",
            "Installing collected packages: keras\n",
            "  Found existing installation: Keras 2.2.4\n",
            "    Uninstalling Keras-2.2.4:\n",
            "      Successfully uninstalled Keras-2.2.4\n",
            "Successfully installed keras-2.2.5\n"
          ],
          "name": "stdout"
        },
        {
          "output_type": "display_data",
          "data": {
            "application/vnd.colab-display-data+json": {
              "pip_warning": {
                "packages": [
                  "keras"
                ]
              }
            }
          },
          "metadata": {
            "tags": []
          }
        }
      ]
    }
  ]
}